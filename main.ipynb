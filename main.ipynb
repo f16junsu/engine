{
 "cells": [
  {
   "cell_type": "code",
   "execution_count": 39,
   "metadata": {},
   "outputs": [
    {
     "name": "stdout",
     "output_type": "stream",
     "text": [
      "16\n"
     ]
    }
   ],
   "source": [
    "from stockfish import Stockfish\n",
    "stockfish = Stockfish(depth=25) # default depth = 25\n",
    "print(stockfish._stockfish_major_version)"
   ]
  },
  {
   "cell_type": "code",
   "execution_count": 40,
   "metadata": {},
   "outputs": [],
   "source": [
    "import chess\n",
    "import chess.pgn\n",
    "import random\n",
    "from pprint import pprint\n",
    "import numpy as np\n",
    "import os\n",
    "import glob\n",
    "import time"
   ]
  },
  {
   "cell_type": "code",
   "execution_count": 43,
   "metadata": {},
   "outputs": [],
   "source": [
    "def checkEndCondition(board):\n",
    "    if (board.is_checkmate()):\n",
    "        print(\"Game over by checkmate\")\n",
    "        return True\n",
    "    elif (board.is_stalemate()):\n",
    "        print(\"Game over by stalemate\")\n",
    "        return True\n",
    "    elif (board.is_insufficient_material()):\n",
    "        print(\"Game over by insufficient material\")\n",
    "        return True\n",
    "    elif (board.can_claim_threefold_repetition()):\n",
    "        print(\"Game over by three-fold repetition\")\n",
    "        return True\n",
    "    elif (board.can_claim_fifty_moves()):\n",
    "        print(\"Game over by fifty moves\")\n",
    "        return True\n",
    "    elif (board.can_claim_draw()):\n",
    "        print(\"Game over by draw\")\n",
    "        return True\n",
    "    return False\n",
    "\n",
    "def findNextIdx():\n",
    "    files = (glob.glob(\"data/*.npy\"))\n",
    "    if (len(files) == 0):\n",
    "        return 1\n",
    "    highestIdx = 0\n",
    "    for f in files:\n",
    "        file = f\n",
    "        currIdx = file.split(\"movesAndPositions\")[-1].split(\".npy\")[0]\n",
    "        highestIdx = max(highestIdx, int(currIdx))\n",
    "\n",
    "    return int(highestIdx) + 1\n",
    "\n",
    "def saveData(moves, positions, number = 0):\n",
    "    moves = np.array(moves).reshape(-1, 1)\n",
    "    positions = np.array(positions).reshape(-1, 1)\n",
    "    movesAndPositions = np.concatenate((moves, positions), axis = 1)\n",
    "    nextIdx = findNextIdx()\n",
    "    if number:\n",
    "        np.save(f\"data/movesAndPositions{number}.npy\", movesAndPositions)\n",
    "    else:\n",
    "        np.save(f\"data/movesAndPositions{nextIdx}.npy\", movesAndPositions)\n",
    "    print(\"Saved successfully\")\n",
    "\n",
    "def runGame(numMoves, filename = \"movesAndPositions1.npy\"):\n",
    "    testing = np.load(f\"data/{filename}\")\n",
    "    moves = testing[:, 0]\n",
    "    if (numMoves > len(moves)):\n",
    "        print(\"Must enter a lower number of moves than maximum game length.\")\n",
    "        print(\"Game length here is: \", len(moves))\n",
    "        return\n",
    "    testBoard = chess.Board()\n",
    "    for i in range(numMoves):\n",
    "        move = moves[i]\n",
    "        testBoard.push_san(move)\n",
    "    return testBoard\n",
    "\n",
    "def mineGames(numGames : int):\n",
    "    MAX_MOVES = 500\n",
    "\n",
    "    for i in range(1, numGames + 1):\n",
    "        print(\"-----Game \", i, \"-----\")\n",
    "        currentGameMoves = []\n",
    "        currentGamePositions = []\n",
    "        board = chess.Board()\n",
    "        game = chess.pgn.Game()\n",
    "        node = game\n",
    "        game.headers[\"Event\"] = f\"Game{i}\"\n",
    "        stockfish.set_position([])\n",
    "\n",
    "        for j in range(MAX_MOVES):\n",
    "            move = stockfish.get_best_move_time(2000)\n",
    "            currentGamePositions.append(stockfish.get_fen_position())\n",
    "            node = node.add_variation(chess.Move.from_uci(move))\n",
    "            board.push_san(move)\n",
    "            currentGameMoves.append(move)\n",
    "            stockfish.set_position(currentGameMoves)\n",
    "            if (checkEndCondition(board)):\n",
    "                break\n",
    "        saveData(currentGameMoves, currentGamePositions, i)\n",
    "        print(game, file=open(f\"data/game{i}.pgn\", \"w\"), end = \"\\n\\n\")\n"
   ]
  },
  {
   "cell_type": "code",
   "execution_count": 44,
   "metadata": {},
   "outputs": [
    {
     "name": "stdout",
     "output_type": "stream",
     "text": [
      "------Game:  1\n",
      "Game over by three-fold repetition\n",
      "Saved successfully\n",
      "------Game:  2\n",
      "Game over by three-fold repetition\n",
      "Saved successfully\n",
      "------Game:  3\n"
     ]
    },
    {
     "ename": "KeyboardInterrupt",
     "evalue": "",
     "output_type": "error",
     "traceback": [
      "\u001b[0;31m---------------------------------------------------------------------------\u001b[0m",
      "\u001b[0;31mKeyboardInterrupt\u001b[0m                         Traceback (most recent call last)",
      "Cell \u001b[0;32mIn[44], line 1\u001b[0m\n\u001b[0;32m----> 1\u001b[0m \u001b[43mmineGames\u001b[49m\u001b[43m(\u001b[49m\u001b[38;5;241;43m5\u001b[39;49m\u001b[43m)\u001b[49m\n",
      "Cell \u001b[0;32mIn[43], line 72\u001b[0m, in \u001b[0;36mmineGames\u001b[0;34m(numGames)\u001b[0m\n\u001b[1;32m     69\u001b[0m stockfish\u001b[38;5;241m.\u001b[39mset_position([])\n\u001b[1;32m     71\u001b[0m \u001b[38;5;28;01mfor\u001b[39;00m j \u001b[38;5;129;01min\u001b[39;00m \u001b[38;5;28mrange\u001b[39m(MAX_MOVES):\n\u001b[0;32m---> 72\u001b[0m     move \u001b[38;5;241m=\u001b[39m \u001b[43mstockfish\u001b[49m\u001b[38;5;241;43m.\u001b[39;49m\u001b[43mget_best_move_time\u001b[49m\u001b[43m(\u001b[49m\u001b[38;5;241;43m2000\u001b[39;49m\u001b[43m)\u001b[49m\n\u001b[1;32m     73\u001b[0m     currentGamePositions\u001b[38;5;241m.\u001b[39mappend(stockfish\u001b[38;5;241m.\u001b[39mget_fen_position())\n\u001b[1;32m     74\u001b[0m     node \u001b[38;5;241m=\u001b[39m node\u001b[38;5;241m.\u001b[39madd_variation(chess\u001b[38;5;241m.\u001b[39mMove\u001b[38;5;241m.\u001b[39mfrom_uci(move))\n",
      "File \u001b[0;32m~/Resources/Chess/Project/myenv/lib/python3.9/site-packages/stockfish/models.py:351\u001b[0m, in \u001b[0;36mStockfish.get_best_move_time\u001b[0;34m(self, time)\u001b[0m\n\u001b[1;32m    341\u001b[0m \u001b[38;5;250m\u001b[39m\u001b[38;5;124;03m\"\"\"Returns best move with current position on the board after a determined time\u001b[39;00m\n\u001b[1;32m    342\u001b[0m \n\u001b[1;32m    343\u001b[0m \u001b[38;5;124;03mArgs:\u001b[39;00m\n\u001b[0;32m   (...)\u001b[0m\n\u001b[1;32m    348\u001b[0m \u001b[38;5;124;03m    A string of move in algebraic notation or None, if it's a mate now.\u001b[39;00m\n\u001b[1;32m    349\u001b[0m \u001b[38;5;124;03m\"\"\"\u001b[39;00m\n\u001b[1;32m    350\u001b[0m \u001b[38;5;28mself\u001b[39m\u001b[38;5;241m.\u001b[39m_go_time(time)\n\u001b[0;32m--> 351\u001b[0m \u001b[38;5;28;01mreturn\u001b[39;00m \u001b[38;5;28;43mself\u001b[39;49m\u001b[38;5;241;43m.\u001b[39;49m\u001b[43m_get_best_move_from_sf_popen_process\u001b[49m\u001b[43m(\u001b[49m\u001b[43m)\u001b[49m\n",
      "File \u001b[0;32m~/Resources/Chess/Project/myenv/lib/python3.9/site-packages/stockfish/models.py:358\u001b[0m, in \u001b[0;36mStockfish._get_best_move_from_sf_popen_process\u001b[0;34m(self)\u001b[0m\n\u001b[1;32m    356\u001b[0m last_text: \u001b[38;5;28mstr\u001b[39m \u001b[38;5;241m=\u001b[39m \u001b[38;5;124m\"\u001b[39m\u001b[38;5;124m\"\u001b[39m\n\u001b[1;32m    357\u001b[0m \u001b[38;5;28;01mwhile\u001b[39;00m \u001b[38;5;28;01mTrue\u001b[39;00m:\n\u001b[0;32m--> 358\u001b[0m     text \u001b[38;5;241m=\u001b[39m \u001b[38;5;28;43mself\u001b[39;49m\u001b[38;5;241;43m.\u001b[39;49m\u001b[43m_read_line\u001b[49m\u001b[43m(\u001b[49m\u001b[43m)\u001b[49m\n\u001b[1;32m    359\u001b[0m     splitted_text \u001b[38;5;241m=\u001b[39m text\u001b[38;5;241m.\u001b[39msplit(\u001b[38;5;124m\"\u001b[39m\u001b[38;5;124m \u001b[39m\u001b[38;5;124m\"\u001b[39m)\n\u001b[1;32m    360\u001b[0m     \u001b[38;5;28;01mif\u001b[39;00m splitted_text[\u001b[38;5;241m0\u001b[39m] \u001b[38;5;241m==\u001b[39m \u001b[38;5;124m\"\u001b[39m\u001b[38;5;124mbestmove\u001b[39m\u001b[38;5;124m\"\u001b[39m:\n",
      "File \u001b[0;32m~/Resources/Chess/Project/myenv/lib/python3.9/site-packages/stockfish/models.py:161\u001b[0m, in \u001b[0;36mStockfish._read_line\u001b[0;34m(self)\u001b[0m\n\u001b[1;32m    159\u001b[0m \u001b[38;5;28;01mif\u001b[39;00m \u001b[38;5;28mself\u001b[39m\u001b[38;5;241m.\u001b[39m_stockfish\u001b[38;5;241m.\u001b[39mpoll() \u001b[38;5;129;01mis\u001b[39;00m \u001b[38;5;129;01mnot\u001b[39;00m \u001b[38;5;28;01mNone\u001b[39;00m:\n\u001b[1;32m    160\u001b[0m     \u001b[38;5;28;01mraise\u001b[39;00m StockfishException(\u001b[38;5;124m\"\u001b[39m\u001b[38;5;124mThe Stockfish process has crashed\u001b[39m\u001b[38;5;124m\"\u001b[39m)\n\u001b[0;32m--> 161\u001b[0m \u001b[38;5;28;01mreturn\u001b[39;00m \u001b[38;5;28;43mself\u001b[39;49m\u001b[38;5;241;43m.\u001b[39;49m\u001b[43m_stockfish\u001b[49m\u001b[38;5;241;43m.\u001b[39;49m\u001b[43mstdout\u001b[49m\u001b[38;5;241;43m.\u001b[39;49m\u001b[43mreadline\u001b[49m\u001b[43m(\u001b[49m\u001b[43m)\u001b[49m\u001b[38;5;241m.\u001b[39mstrip()\n",
      "\u001b[0;31mKeyboardInterrupt\u001b[0m: "
     ]
    }
   ],
   "source": [
    "mineGames(5)"
   ]
  }
 ],
 "metadata": {
  "kernelspec": {
   "display_name": "myenv",
   "language": "python",
   "name": "python3"
  },
  "language_info": {
   "codemirror_mode": {
    "name": "ipython",
    "version": 3
   },
   "file_extension": ".py",
   "mimetype": "text/x-python",
   "name": "python",
   "nbconvert_exporter": "python",
   "pygments_lexer": "ipython3",
   "version": "3.9.6"
  }
 },
 "nbformat": 4,
 "nbformat_minor": 2
}
